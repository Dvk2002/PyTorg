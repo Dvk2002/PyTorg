{
 "cells": [
  {
   "cell_type": "code",
   "execution_count": 1,
   "metadata": {},
   "outputs": [],
   "source": [
    "import os\n",
    "import numpy as np\n",
    "import math\n",
    "\n",
    "from torch.utils.data import DataLoader,TensorDataset,Dataset\n",
    "import torchvision.transforms as transforms\n",
    "from torchvision import datasets\n",
    "from torch.autograd import Variable\n",
    "\n",
    "import torch.nn as nn\n",
    "import torch\n",
    "\n",
    "########### Вывод изображений и их сохранение\n",
    "import matplotlib.pyplot as plt\n",
    "from IPython import display\n",
    "from torchvision.utils import save_image, make_grid"
   ]
  },
  {
   "cell_type": "code",
   "execution_count": 2,
   "metadata": {
    "scrolled": true
   },
   "outputs": [
    {
     "name": "stdout",
     "output_type": "stream",
     "text": [
      "cuda\n"
     ]
    }
   ],
   "source": [
    "use_cuda = torch.cuda.is_available()\n",
    "# device = torch.device(\"cpu\")\n",
    "device = torch.device('cuda') if torch.cuda.is_available() else torch.device('cpu')\n",
    "print(device)"
   ]
  },
  {
   "cell_type": "code",
   "execution_count": 3,
   "metadata": {},
   "outputs": [],
   "source": [
    "class Fset(Dataset):\n",
    "    def __init__(self, X,f):\n",
    "        self.data_x = X\n",
    "        self.func = f\n",
    "        self.data_y=np.array([[self.func(x) for x in X]]).T\n",
    "\n",
    "    def __len__(self):\n",
    "        \n",
    "        return len(self.data_x)\n",
    "    \n",
    "    def __getitem__(self, idx):\n",
    "        \n",
    "        y=self.data_y[idx]\n",
    "        x=self.data_x[idx]\n",
    "  \n",
    "        return y,x"
   ]
  },
  {
   "cell_type": "code",
   "execution_count": 4,
   "metadata": {},
   "outputs": [],
   "source": [
    "def f(x):\n",
    "    x=torch.tensor(x)\n",
    "    y=torch.sin(x)/x-x/10\n",
    "    return  y"
   ]
  },
  {
   "cell_type": "code",
   "execution_count": 5,
   "metadata": {},
   "outputs": [],
   "source": [
    "X=np.linspace(0.1,10,1000)"
   ]
  },
  {
   "cell_type": "code",
   "execution_count": 6,
   "metadata": {},
   "outputs": [],
   "source": [
    "data=Fset(X,f)\n",
    "batch_size=32"
   ]
  },
  {
   "cell_type": "code",
   "execution_count": 7,
   "metadata": {},
   "outputs": [],
   "source": [
    "real_data= DataLoader(data,batch_size=batch_size, shuffle=True)"
   ]
  },
  {
   "cell_type": "code",
   "execution_count": 9,
   "metadata": {},
   "outputs": [
    {
     "data": {
      "text/plain": [
       "<matplotlib.collections.PathCollection at 0x1346c85e160>"
      ]
     },
     "execution_count": 9,
     "metadata": {},
     "output_type": "execute_result"
    },
    {
     "data": {
      "image/png": "[encoded data removed]",
      "text/plain": [
       "<Figure size 432x288 with 1 Axes>"
      ]
     },
     "metadata": {
      "needs_background": "light"
     },
     "output_type": "display_data"
    }
   ],
   "source": [
    "Y=np.array([[f(x) for x in X]]).T\n",
    "plt.scatter(X, Y)"
   ]
  },
  {
   "cell_type": "code",
   "execution_count": 10,
   "metadata": {},
   "outputs": [
    {
     "data": {
      "text/plain": [
       "(1000, 1)"
      ]
     },
     "execution_count": 10,
     "metadata": {},
     "output_type": "execute_result"
    }
   ],
   "source": [
    "Y.shape"
   ]
  },
  {
   "cell_type": "code",
   "execution_count": 20,
   "metadata": {},
   "outputs": [],
   "source": [
    "class Generator(nn.Module):\n",
    "    def __init__(self):\n",
    "        super().__init__()\n",
    "        \n",
    "        # Использование таких словарей позволяет нам варьировать параметры нашей сети в процессе использования\n",
    "        self.activations = nn.ModuleDict([\n",
    "                ['lrelu', nn.LeakyReLU(0.2, inplace=True)],\n",
    "                ['relu', nn.ReLU(0.2)]])\n",
    "        \n",
    "        def block(in_feat, out_feat, normalize=True, activation='relu'): #activation='relu\n",
    "            layers = [nn.Linear(in_feat, out_feat)] # Если мы создаем последовательность слоев - то мы задаем их\n",
    "                                                    # с помощью списка.\n",
    "            if normalize:\n",
    "                layers.append(nn.BatchNorm1d(out_feat, 0.8))\n",
    "            layers.append(self.activations[activation]) # Эта сторчка означает тоже самое что и\n",
    "                                                       # layers.append(nn.LeakyReLU(0.2, inplace=True))\n",
    "            return layers\n",
    "\n",
    "        self.model = nn.Sequential(\n",
    "            *block(latent_dim, 128, normalize=False), # Звездочка означает unpacking списка\n",
    "#             *block(128, 256, activation='lrelu'),\n",
    "#             *block(256, 512),\n",
    "#             *block(512, 1024),\n",
    "            nn.Linear(128, int(np.prod(*Y[0].shape))),\n",
    "            nn.Tanh()\n",
    "        )\n",
    "        # 2\n",
    "\n",
    "    def forward(self, z):\n",
    "        img = self.model(z)\n",
    "        img = img.view(img.size(0),*Y[0].shape)\n",
    "#         print(444,img.size())\n",
    "        return img\n"
   ]
  },
  {
   "cell_type": "code",
   "execution_count": 21,
   "metadata": {},
   "outputs": [],
   "source": [
    "class CustomLinearLayer(nn.Module):\n",
    "    def __init__(self, size_in, size_out):\n",
    "        super().__init__()\n",
    "        self.size_in, self.size_out = size_in, size_out\n",
    "        \n",
    "        weights = torch.Tensor(size_out, size_in)\n",
    "        self.weights = nn.Parameter(weights) # Обьявляем веса кка параметры слоя\n",
    "\n",
    "        bias = torch.Tensor(size_out)\n",
    "        self.bias = nn.Parameter(bias)\n",
    "\n",
    "        nn.init.uniform_(self.weights, -0.005, 0.005) \n",
    "        nn.init.uniform_(self.bias, -0.005, 0.005)  \n",
    "\n",
    "    def forward(self, x):\n",
    "        # По формуле линейного слоя, нам нужно умножить наши данные на трнспонированные веса и добавить смещение\n",
    "        w_times_x = torch.mm(x, self.weights.t())\n",
    "        return torch.add(w_times_x, self.bias)  "
   ]
  },
  {
   "cell_type": "code",
   "execution_count": 22,
   "metadata": {},
   "outputs": [],
   "source": [
    "class Discriminator(nn.Module):\n",
    "    def __init__(self):\n",
    "        super().__init__()\n",
    "\n",
    "        self.model = nn.Sequential(\n",
    "            CustomLinearLayer(Y[0].shape[0], 256),\n",
    "#             nn.LeakyReLU(0.2, inplace=True),\n",
    "#             CustomLinearLayer(512, 256),\n",
    "            nn.LeakyReLU(0.2, inplace=True),\n",
    "            CustomLinearLayer(256, 1),\n",
    "            nn.Sigmoid(),\n",
    "        )\n",
    "  \n",
    "\n",
    "    def forward(self, img):\n",
    "        img_flat = img.view(img.size(0), -1)\n",
    "        validity = self.model(img_flat)\n",
    "#         print(333,validity.size())\n",
    "\n",
    "        return validity"
   ]
  },
  {
   "cell_type": "code",
   "execution_count": 23,
   "metadata": {},
   "outputs": [],
   "source": [
    "n_epochs = 200 # количество эпох\n",
    "lr = 0.0002 # шаг обучения\n",
    "\n",
    "b1 = 0.5 # гиперпараметр для оптимайзера Adam\n",
    "b2 = 0.999 # гиперпараметр для оптимайзера Adam\n",
    "\n",
    "latent_dim = 100 # Размерность случайного вектора, который подается на вход генератору\n",
    "\n",
    "epoch_interval = 50\n",
    "sample_interval = 29 # количество картинок для отображения процесса обучения"
   ]
  },
  {
   "cell_type": "code",
   "execution_count": 24,
   "metadata": {},
   "outputs": [],
   "source": [
    "generator = Generator().to(device)\n",
    "discriminator = Discriminator().to(device)\n",
    "\n",
    "# Для каждой нейронки свой опитимизатор\n",
    "optimizer_G = torch.optim.Adam(generator.parameters(), lr=lr, betas=(b1, b2))\n",
    "optimizer_D = torch.optim.Adam(discriminator.parameters(), lr=lr, betas=(b1, b2))\n",
    "\n",
    "# Но вот функция ошибки у нас будет одна общая\n",
    "adversarial_loss = torch.nn.BCELoss()"
   ]
  },
  {
   "cell_type": "code",
   "execution_count": 25,
   "metadata": {},
   "outputs": [],
   "source": [
    "d_loss_history = []\n",
    "g_loss_history = []"
   ]
  },
  {
   "cell_type": "code",
   "execution_count": 17,
   "metadata": {},
   "outputs": [
    {
     "name": "stdout",
     "output_type": "stream",
     "text": [
      "28 49\n",
      "32 32\n"
     ]
    },
    {
     "data": {
      "image/png": "[encoded data removed]",
      "text/plain": [
       "<Figure size 432x288 with 1 Axes>"
      ]
     },
     "metadata": {
      "needs_background": "light"
     },
     "output_type": "display_data"
    },
    {
     "name": "stdout",
     "output_type": "stream",
     "text": [
      "[Epoch 49/200] [Batch 28/32] [D loss: 0.693847] [G loss: 0.693393][F loss: 0.693016]\n",
      "28 99\n",
      "32 32\n"
     ]
    },
    {
     "data": {
      "image/png": "[encoded data removed]",
      "text/plain": [
       "<Figure size 432x288 with 1 Axes>"
      ]
     },
     "metadata": {
      "needs_background": "light"
     },
     "output_type": "display_data"
    },
    {
     "name": "stdout",
     "output_type": "stream",
     "text": [
      "[Epoch 99/200] [Batch 28/32] [D loss: 0.693143] [G loss: 0.693362][F loss: 0.692940]\n",
      "28 149\n",
      "32 32\n"
     ]
    },
    {
     "data": {
      "image/png": "[encoded data removed]",
      "text/plain": [
       "<Figure size 432x288 with 1 Axes>"
      ]
     },
     "metadata": {
      "needs_background": "light"
     },
     "output_type": "display_data"
    },
    {
     "name": "stdout",
     "output_type": "stream",
     "text": [
      "[Epoch 149/200] [Batch 28/32] [D loss: 0.692713] [G loss: 0.693399][F loss: 0.692923]\n",
      "28 199\n",
      "32 32\n"
     ]
    },
    {
     "data": {
      "image/png": "[encoded data removed]",
      "text/plain": [
       "<Figure size 432x288 with 1 Axes>"
      ]
     },
     "metadata": {
      "needs_background": "light"
     },
     "output_type": "display_data"
    },
    {
     "name": "stdout",
     "output_type": "stream",
     "text": [
      "[Epoch 199/200] [Batch 28/32] [D loss: 0.694267] [G loss: 0.695628][F loss: 0.690728]\n"
     ]
    }
   ],
   "source": [
    "import matplotlib.patches as mpatches\n",
    "\n",
    "\n",
    "for epoch in range(n_epochs):\n",
    "    for i, (y,x) in enumerate(real_data):\n",
    "        \n",
    "        \n",
    "        \n",
    "        \n",
    "##################### Лейблы для данных: 1 - настоящие, 0 - сгенерированные ########\n",
    "        valid = torch.FloatTensor(batch_size, 1).fill_(1.0).to(device)\n",
    "        fake = torch.FloatTensor(batch_size, 1).fill_(0.0).to(device)\n",
    "\n",
    "        real_imgs = y.type(torch.FloatTensor).to(device)\n",
    "        \n",
    "#         print(777,real_imgs.size())\n",
    "\n",
    "\n",
    "######################  Тренировка генератора    ##########################\n",
    "\n",
    "        optimizer_G.zero_grad()\n",
    "    \n",
    "        #генерация шума\n",
    "        z = torch.FloatTensor(np.random.normal(0, 1, (batch_size, latent_dim))).to(device)\n",
    "        \n",
    "        # Генерируем даные Генератором на основе шума\n",
    "        gen_imgs = generator(z)\n",
    "#         print(.shape)\n",
    "        \n",
    "        # Подаем сгенерированые данные на Дискриминатор \n",
    "        validity = discriminator(gen_imgs)\n",
    "#         print('d0')\n",
    "        # Тут сравниваем предсказанные значения Дискриминатора(на основе сгенерировнных данных) с настоящими\n",
    "        g_loss = adversarial_loss(validity, valid)\n",
    "        \n",
    "#         print(g_loss)\n",
    "        \n",
    "        # Делаем шаг обучения нашего Генератора\n",
    "        g_loss.backward()\n",
    "        optimizer_G.step()\n",
    "\n",
    "######################  Тренировка дискриминатора    ##########################\n",
    "\n",
    "        optimizer_D.zero_grad()\n",
    "        \n",
    "        # Получаем предсказания дискриминатора на основе реальных данных\n",
    "        real_pred = discriminator(real_imgs)\n",
    "#         print('d1')\n",
    "#         print(real_pred.size(),valid.size())\n",
    "        if real_pred.size()==valid.size():\n",
    "            \n",
    "\n",
    "            # Тут сравниваем предсказанные значения Дискриминатора(на основе настоящих данных) с настоящими\n",
    "            d_real_loss = adversarial_loss(real_pred, valid)\n",
    "\n",
    "            # Опять делаем предсказание на Дискриминаторе с помощью сгенерированных данных\n",
    "            fake_pred = discriminator(gen_imgs.detach())\n",
    "#             print('d2')\n",
    "\n",
    "            # расчитываем ошибку предсказанного с фейковыми лейблами\n",
    "            d_fake_loss = adversarial_loss(fake_pred, fake)\n",
    "\n",
    "            # И усредняем два лосса в один\n",
    "            d_loss = (d_real_loss + d_fake_loss) / 2\n",
    "\n",
    "            d_loss.backward()\n",
    "            optimizer_D.step()\n",
    "        \n",
    "######## Отображение процесса обучения и вывод функций потерь ############\n",
    "#         batches_done = epoch * len(real_data) + i\n",
    "    \n",
    "#         if epoch % epoch_interval == 0:\n",
    "#         print(i,epoch)\n",
    "        if ((i+1) % sample_interval == 0 and (epoch+1) % 50 == 0):\n",
    "            print(i,epoch)\n",
    "            \n",
    "            with torch.no_grad():\n",
    "#                 plt.clf()\n",
    "                plt.scatter(x,y.flatten(), label='real')\n",
    "                plt.scatter(x,gen_imgs.detach().cpu().numpy().flatten(), c='y', label='gen')\n",
    "                plt.scatter(x,fake_pred.detach().cpu().numpy().flatten(), c='r', label='fake_disc')\n",
    "                print(len(x),len(real_pred.detach().cpu().numpy().flatten()))\n",
    "                plt.scatter(x,real_pred.detach().cpu().numpy().flatten(), c='g', label='real_disc')\n",
    "                plt.legend()\n",
    "                plt.show()\n",
    "\n",
    "# #                 display.clear_output(wait=False)\n",
    "# #                 sample_image(gen_imgs)\n",
    "                print(\"[Epoch %d/%d] [Batch %d/%d] [D loss: %f] [G loss: %f][F loss: %f]\"% \n",
    "                      (epoch, n_epochs, i, len(real_data), d_loss.item(), g_loss.item(),d_fake_loss.item()) ) \n",
    "\n",
    "\n",
    "# #                 display.display(plt.gcf())\n",
    "\n",
    "#                 d_loss = d_loss.cpu().detach()\n",
    "#                 g_loss = g_loss.cpu().detach()\n",
    "                \n",
    "                \n",
    "\n",
    "\n",
    "#                 d_loss_history.append(d_loss)\n",
    "#                 g_loss_history.append(g_loss)\n",
    "\n",
    "#                 plt.plot(np.log(np.array(d_loss_history)), label='D loss', color = 'red')\n",
    "#                 plt.plot(np.log(np.array(g_loss_history)), label='G loss', color = 'green')\n",
    "#                 plt.legend(handles=[red_patch, green_patch])\n",
    "#                 plt.show()\n",
    "\n",
    "            "
   ]
  },
  {
   "cell_type": "code",
   "execution_count": null,
   "metadata": {},
   "outputs": [],
   "source": []
  },
  {
   "cell_type": "code",
   "execution_count": null,
   "metadata": {},
   "outputs": [],
   "source": []
  }
 ],
 "metadata": {
  "kernelspec": {
   "display_name": "Python 3",
   "language": "python",
   "name": "python3"
  },
  "language_info": {
   "codemirror_mode": {
    "name": "ipython",
    "version": 3
   },
   "file_extension": ".py",
   "mimetype": "text/x-python",
   "name": "python",
   "nbconvert_exporter": "python",
   "pygments_lexer": "ipython3",
   "version": "3.8.5"
  }
 },
 "nbformat": 4,
 "nbformat_minor": 4
}
